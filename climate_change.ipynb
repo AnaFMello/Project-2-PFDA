{
  "cells": [
    {
      "cell_type": "code",
      "execution_count": 3,
      "id": "be7e9eef",
      "metadata": {
        "_cell_guid": "b1076dfc-b9ad-4769-8c92-a6c4dae69d19",
        "_uuid": "8f2839f25d086af736a60e9eeb907d3b93b6e0e5",
        "execution": {
          "iopub.execute_input": "2023-06-13T17:35:04.144222Z",
          "iopub.status.busy": "2023-06-13T17:35:04.143830Z",
          "iopub.status.idle": "2023-06-13T17:35:04.163015Z",
          "shell.execute_reply": "2023-06-13T17:35:04.161476Z"
        },
        "id": "be7e9eef",
        "papermill": {
          "duration": 0.032582,
          "end_time": "2023-06-13T17:35:04.165559",
          "exception": false,
          "start_time": "2023-06-13T17:35:04.132977",
          "status": "completed"
        },
        "tags": []
      },
      "outputs": [
        {
          "ename": "ModuleNotFoundError",
          "evalue": "No module named 'numpy'",
          "output_type": "error",
          "traceback": [
            "\u001b[1;31m---------------------------------------------------------------------------\u001b[0m",
            "\u001b[1;31mModuleNotFoundError\u001b[0m                       Traceback (most recent call last)",
            "Cell \u001b[1;32mIn[3], line 1\u001b[0m\n\u001b[1;32m----> 1\u001b[0m \u001b[38;5;28;01mimport\u001b[39;00m \u001b[38;5;21;01mnumpy\u001b[39;00m \u001b[38;5;28;01mas\u001b[39;00m \u001b[38;5;21;01mnp\u001b[39;00m \n\u001b[0;32m      2\u001b[0m \u001b[38;5;28;01mimport\u001b[39;00m \u001b[38;5;21;01mpandas\u001b[39;00m \u001b[38;5;28;01mas\u001b[39;00m \u001b[38;5;21;01mpd\u001b[39;00m \n",
            "\u001b[1;31mModuleNotFoundError\u001b[0m: No module named 'numpy'"
          ]
        }
      ],
      "source": [
        "\n",
        "\n",
        "import numpy as np \n",
        "import pandas as pd \n",
        "\n",
        "\n",
        "\n"
      ]
    },
    {
      "cell_type": "markdown",
      "id": "f0bfb6e4",
      "metadata": {},
      "source": [
        "I am importing the pandas library, a powerful tool for data manipulation and analysis in Python."
      ]
    },
    {
      "cell_type": "code",
      "execution_count": null,
      "id": "0c4ac935",
      "metadata": {
        "colab": {
          "base_uri": "https://localhost:8080/",
          "height": 310
        },
        "execution": {
          "iopub.execute_input": "2023-06-13T17:35:04.185010Z",
          "iopub.status.busy": "2023-06-13T17:35:04.184357Z",
          "iopub.status.idle": "2023-06-13T17:35:04.296405Z",
          "shell.execute_reply": "2023-06-13T17:35:04.295457Z"
        },
        "id": "0c4ac935",
        "outputId": "9d50d508-8a48-428b-da0a-64f9b0af324a",
        "papermill": {
          "duration": 0.124444,
          "end_time": "2023-06-13T17:35:04.298751",
          "exception": false,
          "start_time": "2023-06-13T17:35:04.174307",
          "status": "completed"
        },
        "tags": []
      },
      "outputs": [
        {
          "ename": "",
          "evalue": "",
          "output_type": "error",
          "traceback": [
            "\u001b[1;31mRunning cells with 'c:\\Users\\ana-m\\AppData\\Local\\Programs\\Python\\Python312\\python.exe' requires the ipykernel package.\n",
            "\u001b[1;31mRun the following command to install 'ipykernel' into the Python environment. \n",
            "\u001b[1;31mCommand: 'c:/Users/ana-m/AppData/Local/Programs/Python/Python312/python.exe -m pip install ipykernel -U --user --force-reinstall'"
          ]
        }
      ],
      "source": [
        "df = pd.read_csv('climate_change_data.csv')\n",
        "df.head()"
      ]
    },
    {
      "cell_type": "markdown",
      "id": "0d79fa18",
      "metadata": {},
      "source": [
        "Next, I am using pandas to read data from a CSV file named 'climate_change_data.csv'. The data is loaded into a DataFrame, which is essentially a tabular data structure. I have assigned this DataFrame the variable name df.\n",
        "\n",
        "Finally, I am using the head() method on the DataFrame df to display the first few rows of the loaded data. This gives me a quick overview of the structure and content of the dataset.\n"
      ]
    },
    {
      "cell_type": "code",
      "execution_count": null,
      "id": "4e58527d",
      "metadata": {
        "colab": {
          "base_uri": "https://localhost:8080/"
        },
        "execution": {
          "iopub.execute_input": "2023-06-13T17:35:04.319021Z",
          "iopub.status.busy": "2023-06-13T17:35:04.318359Z",
          "iopub.status.idle": "2023-06-13T17:35:04.325354Z",
          "shell.execute_reply": "2023-06-13T17:35:04.324183Z"
        },
        "id": "4e58527d",
        "outputId": "c9c87b9b-a41d-4285-dce3-b1d04fd2785f",
        "papermill": {
          "duration": 0.020047,
          "end_time": "2023-06-13T17:35:04.327879",
          "exception": false,
          "start_time": "2023-06-13T17:35:04.307832",
          "status": "completed"
        },
        "tags": []
      },
      "outputs": [
        {
          "ename": "",
          "evalue": "",
          "output_type": "error",
          "traceback": [
            "\u001b[1;31mRunning cells with 'c:\\Users\\ana-m\\AppData\\Local\\Programs\\Python\\Python312\\python.exe' requires the ipykernel package.\n",
            "\u001b[1;31mRun the following command to install 'ipykernel' into the Python environment. \n",
            "\u001b[1;31mCommand: 'c:/Users/ana-m/AppData/Local/Programs/Python/Python312/python.exe -m pip install ipykernel -U --user --force-reinstall'"
          ]
        }
      ],
      "source": [
        "df.shape"
      ]
    },
    {
      "cell_type": "markdown",
      "id": "0d74f133",
      "metadata": {},
      "source": [
        "This line of code retrieves the shape of the DataFrame df, which represents the number of rows and columns in the dataset. By executing this, I can quickly see the dimensions of the data, with the output being a tuple containing the number of rows followed by the number of columns."
      ]
    },
    {
      "cell_type": "code",
      "execution_count": null,
      "id": "c920ae02",
      "metadata": {
        "colab": {
          "base_uri": "https://localhost:8080/",
          "height": 300
        },
        "execution": {
          "iopub.execute_input": "2023-06-13T17:35:04.347821Z",
          "iopub.status.busy": "2023-06-13T17:35:04.347446Z",
          "iopub.status.idle": "2023-06-13T17:35:04.386979Z",
          "shell.execute_reply": "2023-06-13T17:35:04.385749Z"
        },
        "id": "c920ae02",
        "outputId": "3149f01d-396a-4b5f-adb0-16e91af8000b",
        "papermill": {
          "duration": 0.052637,
          "end_time": "2023-06-13T17:35:04.389501",
          "exception": false,
          "start_time": "2023-06-13T17:35:04.336864",
          "status": "completed"
        },
        "tags": []
      },
      "outputs": [
        {
          "ename": "",
          "evalue": "",
          "output_type": "error",
          "traceback": [
            "\u001b[1;31mRunning cells with 'c:\\Users\\ana-m\\AppData\\Local\\Programs\\Python\\Python312\\python.exe' requires the ipykernel package.\n",
            "\u001b[1;31mRun the following command to install 'ipykernel' into the Python environment. \n",
            "\u001b[1;31mCommand: 'c:/Users/ana-m/AppData/Local/Programs/Python/Python312/python.exe -m pip install ipykernel -U --user --force-reinstall'"
          ]
        }
      ],
      "source": [
        "df.describe()"
      ]
    },
    {
      "cell_type": "markdown",
      "id": "801fbc52",
      "metadata": {},
      "source": [
        "Here, I'm using the describe() method on the DataFrame df. This method provides a summary of descriptive statistics for each column, including measures like mean, standard deviation, minimum, and maximum values. It's a useful way to get a statistical overview of the numerical features in the dataset."
      ]
    },
    {
      "cell_type": "code",
      "execution_count": null,
      "id": "9e9737f9",
      "metadata": {
        "colab": {
          "base_uri": "https://localhost:8080/"
        },
        "execution": {
          "iopub.execute_input": "2023-06-13T17:35:04.411987Z",
          "iopub.status.busy": "2023-06-13T17:35:04.410936Z",
          "iopub.status.idle": "2023-06-13T17:35:04.444733Z",
          "shell.execute_reply": "2023-06-13T17:35:04.443872Z"
        },
        "id": "9e9737f9",
        "outputId": "b9b791e1-5bee-41b6-b5f3-9dd3f86365fb",
        "papermill": {
          "duration": 0.046751,
          "end_time": "2023-06-13T17:35:04.447036",
          "exception": false,
          "start_time": "2023-06-13T17:35:04.400285",
          "status": "completed"
        },
        "tags": []
      },
      "outputs": [
        {
          "ename": "",
          "evalue": "",
          "output_type": "error",
          "traceback": [
            "\u001b[1;31mRunning cells with 'c:\\Users\\ana-m\\AppData\\Local\\Programs\\Python\\Python312\\python.exe' requires the ipykernel package.\n",
            "\u001b[1;31mRun the following command to install 'ipykernel' into the Python environment. \n",
            "\u001b[1;31mCommand: 'c:/Users/ana-m/AppData/Local/Programs/Python/Python312/python.exe -m pip install ipykernel -U --user --force-reinstall'"
          ]
        }
      ],
      "source": [
        "df.info()"
      ]
    },
    {
      "cell_type": "markdown",
      "id": "829de151",
      "metadata": {},
      "source": [
        "The info() method gives a concise summary of the DataFrame, providing information about the data types, non-null values, and memory usage. It's helpful for understanding the structure of the dataset, such as the presence of missing values and the data types of each column."
      ]
    },
    {
      "cell_type": "code",
      "execution_count": null,
      "id": "3d420688",
      "metadata": {
        "colab": {
          "base_uri": "https://localhost:8080/"
        },
        "execution": {
          "iopub.execute_input": "2023-06-13T17:35:04.468238Z",
          "iopub.status.busy": "2023-06-13T17:35:04.467549Z",
          "iopub.status.idle": "2023-06-13T17:35:04.474545Z",
          "shell.execute_reply": "2023-06-13T17:35:04.473805Z"
        },
        "id": "3d420688",
        "outputId": "2f1277b9-86c2-45ae-fcdc-04c927b1cf86",
        "papermill": {
          "duration": 0.019811,
          "end_time": "2023-06-13T17:35:04.476527",
          "exception": false,
          "start_time": "2023-06-13T17:35:04.456716",
          "status": "completed"
        },
        "tags": []
      },
      "outputs": [
        {
          "ename": "",
          "evalue": "",
          "output_type": "error",
          "traceback": [
            "\u001b[1;31mRunning cells with 'c:\\Users\\ana-m\\AppData\\Local\\Programs\\Python\\Python312\\python.exe' requires the ipykernel package.\n",
            "\u001b[1;31mRun the following command to install 'ipykernel' into the Python environment. \n",
            "\u001b[1;31mCommand: 'c:/Users/ana-m/AppData/Local/Programs/Python/Python312/python.exe -m pip install ipykernel -U --user --force-reinstall'"
          ]
        }
      ],
      "source": [
        "df.dtypes"
      ]
    },
    {
      "cell_type": "markdown",
      "id": "6ad328c9",
      "metadata": {},
      "source": [
        "By using df.dtypes, I can inspect the data types of each column in the DataFrame df. This is valuable information to understand how the data is stored, especially when dealing with different types such as integers, floats, or objects (typically strings)."
      ]
    },
    {
      "cell_type": "code",
      "execution_count": null,
      "id": "c5d89151",
      "metadata": {
        "colab": {
          "base_uri": "https://localhost:8080/"
        },
        "execution": {
          "iopub.execute_input": "2023-06-13T17:35:04.497932Z",
          "iopub.status.busy": "2023-06-13T17:35:04.496943Z",
          "iopub.status.idle": "2023-06-13T17:35:04.515263Z",
          "shell.execute_reply": "2023-06-13T17:35:04.514124Z"
        },
        "id": "c5d89151",
        "outputId": "7987de2b-ebb6-4aa6-d1db-22f5f136098f",
        "papermill": {
          "duration": 0.031825,
          "end_time": "2023-06-13T17:35:04.518032",
          "exception": false,
          "start_time": "2023-06-13T17:35:04.486207",
          "status": "completed"
        },
        "tags": []
      },
      "outputs": [
        {
          "ename": "",
          "evalue": "",
          "output_type": "error",
          "traceback": [
            "\u001b[1;31mRunning cells with 'c:\\Users\\ana-m\\AppData\\Local\\Programs\\Python\\Python312\\python.exe' requires the ipykernel package.\n",
            "\u001b[1;31mRun the following command to install 'ipykernel' into the Python environment. \n",
            "\u001b[1;31mCommand: 'c:/Users/ana-m/AppData/Local/Programs/Python/Python312/python.exe -m pip install ipykernel -U --user --force-reinstall'"
          ]
        }
      ],
      "source": [
        "df.isnull().sum()"
      ]
    },
    {
      "cell_type": "markdown",
      "id": "2a32640b",
      "metadata": {},
      "source": [
        "The expression df.isnull().sum() is checking for missing values in each column and summing them up. This helps me quickly identify which columns have missing data and how many missing values are present in each column."
      ]
    },
    {
      "cell_type": "code",
      "execution_count": null,
      "id": "2b53489a",
      "metadata": {
        "colab": {
          "base_uri": "https://localhost:8080/"
        },
        "execution": {
          "iopub.execute_input": "2023-06-13T17:35:04.539795Z",
          "iopub.status.busy": "2023-06-13T17:35:04.539138Z",
          "iopub.status.idle": "2023-06-13T17:35:04.560642Z",
          "shell.execute_reply": "2023-06-13T17:35:04.559407Z"
        },
        "id": "2b53489a",
        "outputId": "06fedd10-bada-423d-ab78-dfbebf726cf4",
        "papermill": {
          "duration": 0.03546,
          "end_time": "2023-06-13T17:35:04.563347",
          "exception": false,
          "start_time": "2023-06-13T17:35:04.527887",
          "status": "completed"
        },
        "tags": []
      },
      "outputs": [
        {
          "ename": "",
          "evalue": "",
          "output_type": "error",
          "traceback": [
            "\u001b[1;31mRunning cells with 'c:\\Users\\ana-m\\AppData\\Local\\Programs\\Python\\Python312\\python.exe' requires the ipykernel package.\n",
            "\u001b[1;31mRun the following command to install 'ipykernel' into the Python environment. \n",
            "\u001b[1;31mCommand: 'c:/Users/ana-m/AppData/Local/Programs/Python/Python312/python.exe -m pip install ipykernel -U --user --force-reinstall'"
          ]
        }
      ],
      "source": [
        "df.duplicated().sum()"
      ]
    },
    {
      "cell_type": "markdown",
      "id": "fd5009f4",
      "metadata": {},
      "source": [
        "By using df.duplicated().sum(), I am checking for duplicated rows in the DataFrame. This provides information about how many rows are exact duplicates of each other. It's useful for identifying and handling duplicate entries in the dataset."
      ]
    },
    {
      "cell_type": "code",
      "execution_count": null,
      "id": "1f905876",
      "metadata": {
        "colab": {
          "base_uri": "https://localhost:8080/"
        },
        "execution": {
          "iopub.execute_input": "2023-06-13T17:35:04.585118Z",
          "iopub.status.busy": "2023-06-13T17:35:04.584746Z",
          "iopub.status.idle": "2023-06-13T17:35:04.596199Z",
          "shell.execute_reply": "2023-06-13T17:35:04.594932Z"
        },
        "id": "1f905876",
        "outputId": "7917bb67-5734-4a12-861e-6872b238da93",
        "papermill": {
          "duration": 0.025111,
          "end_time": "2023-06-13T17:35:04.598427",
          "exception": false,
          "start_time": "2023-06-13T17:35:04.573316",
          "status": "completed"
        },
        "tags": []
      },
      "outputs": [
        {
          "ename": "",
          "evalue": "",
          "output_type": "error",
          "traceback": [
            "\u001b[1;31mRunning cells with 'c:\\Users\\ana-m\\AppData\\Local\\Programs\\Python\\Python312\\python.exe' requires the ipykernel package.\n",
            "\u001b[1;31mRun the following command to install 'ipykernel' into the Python environment. \n",
            "\u001b[1;31mCommand: 'c:/Users/ana-m/AppData/Local/Programs/Python/Python312/python.exe -m pip install ipykernel -U --user --force-reinstall'"
          ]
        }
      ],
      "source": [
        "df['Country'].value_counts()"
      ]
    },
    {
      "cell_type": "markdown",
      "id": "3469d152",
      "metadata": {},
      "source": [
        "Here, I am using value_counts() on the 'Country' column to get a count of unique values. This helps me understand the distribution of countries in the dataset, indicating which countries have more or fewer entries."
      ]
    },
    {
      "cell_type": "code",
      "execution_count": null,
      "id": "f90f6f20",
      "metadata": {
        "colab": {
          "base_uri": "https://localhost:8080/"
        },
        "execution": {
          "iopub.execute_input": "2023-06-13T17:35:04.621246Z",
          "iopub.status.busy": "2023-06-13T17:35:04.620859Z",
          "iopub.status.idle": "2023-06-13T17:35:04.635967Z",
          "shell.execute_reply": "2023-06-13T17:35:04.634846Z"
        },
        "id": "f90f6f20",
        "outputId": "05730436-67a2-429e-c4e6-c09fc6b672c4",
        "papermill": {
          "duration": 0.029547,
          "end_time": "2023-06-13T17:35:04.638328",
          "exception": false,
          "start_time": "2023-06-13T17:35:04.608781",
          "status": "completed"
        },
        "tags": []
      },
      "outputs": [
        {
          "ename": "",
          "evalue": "",
          "output_type": "error",
          "traceback": [
            "\u001b[1;31mRunning cells with 'c:\\Users\\ana-m\\AppData\\Local\\Programs\\Python\\Python312\\python.exe' requires the ipykernel package.\n",
            "\u001b[1;31mRun the following command to install 'ipykernel' into the Python environment. \n",
            "\u001b[1;31mCommand: 'c:/Users/ana-m/AppData/Local/Programs/Python/Python312/python.exe -m pip install ipykernel -U --user --force-reinstall'"
          ]
        }
      ],
      "source": [
        "df['Location'].value_counts()"
      ]
    },
    {
      "cell_type": "markdown",
      "id": "e2086744",
      "metadata": {},
      "source": [
        "By using df['Location'].value_counts(), I am obtaining a count of unique values in the 'Location' column. This allows me to understand the distribution of different locations in the dataset and how frequently each location appears."
      ]
    },
    {
      "cell_type": "code",
      "execution_count": null,
      "id": "dd41a296",
      "metadata": {
        "execution": {
          "iopub.execute_input": "2023-06-13T17:35:04.661137Z",
          "iopub.status.busy": "2023-06-13T17:35:04.660756Z",
          "iopub.status.idle": "2023-06-13T17:35:06.183858Z",
          "shell.execute_reply": "2023-06-13T17:35:06.182921Z"
        },
        "id": "dd41a296",
        "papermill": {
          "duration": 1.53767,
          "end_time": "2023-06-13T17:35:06.186406",
          "exception": false,
          "start_time": "2023-06-13T17:35:04.648736",
          "status": "completed"
        },
        "tags": []
      },
      "outputs": [
        {
          "ename": "",
          "evalue": "",
          "output_type": "error",
          "traceback": [
            "\u001b[1;31mRunning cells with 'c:\\Users\\ana-m\\AppData\\Local\\Programs\\Python\\Python312\\python.exe' requires the ipykernel package.\n",
            "\u001b[1;31mRun the following command to install 'ipykernel' into the Python environment. \n",
            "\u001b[1;31mCommand: 'c:/Users/ana-m/AppData/Local/Programs/Python/Python312/python.exe -m pip install ipykernel -U --user --force-reinstall'"
          ]
        }
      ],
      "source": [
        "import matplotlib.pyplot as plt\n",
        "import seaborn as sns"
      ]
    },
    {
      "cell_type": "code",
      "execution_count": null,
      "id": "61f3e1b0",
      "metadata": {
        "colab": {
          "base_uri": "https://localhost:8080/",
          "height": 670
        },
        "execution": {
          "iopub.execute_input": "2023-06-13T17:35:06.209464Z",
          "iopub.status.busy": "2023-06-13T17:35:06.209015Z",
          "iopub.status.idle": "2023-06-13T17:35:06.699820Z",
          "shell.execute_reply": "2023-06-13T17:35:06.698694Z"
        },
        "id": "61f3e1b0",
        "outputId": "5c63c50d-5e31-4799-ca19-eddbd41d44c0",
        "papermill": {
          "duration": 0.505525,
          "end_time": "2023-06-13T17:35:06.702713",
          "exception": false,
          "start_time": "2023-06-13T17:35:06.197188",
          "status": "completed"
        },
        "tags": []
      },
      "outputs": [
        {
          "ename": "",
          "evalue": "",
          "output_type": "error",
          "traceback": [
            "\u001b[1;31mRunning cells with 'c:\\Users\\ana-m\\AppData\\Local\\Programs\\Python\\Python312\\python.exe' requires the ipykernel package.\n",
            "\u001b[1;31mRun the following command to install 'ipykernel' into the Python environment. \n",
            "\u001b[1;31mCommand: 'c:/Users/ana-m/AppData/Local/Programs/Python/Python312/python.exe -m pip install ipykernel -U --user --force-reinstall'"
          ]
        }
      ],
      "source": [
        "sns.distplot(df['Temperature'])"
      ]
    },
    {
      "cell_type": "markdown",
      "id": "2e12b05b",
      "metadata": {},
      "source": [
        "This line of code uses seaborn to create a distribution plot (distplot) for the 'Temperature' column in the DataFrame df. The distribution plot provides insights into the distribution of temperature values, including the shape of the distribution and central tendencies."
      ]
    },
    {
      "cell_type": "code",
      "execution_count": null,
      "id": "MoUqWW50vLmH",
      "metadata": {
        "colab": {
          "base_uri": "https://localhost:8080/",
          "height": 600
        },
        "id": "MoUqWW50vLmH",
        "outputId": "f1952198-b82b-4869-8f96-cb6b2d221aa5"
      },
      "outputs": [
        {
          "ename": "",
          "evalue": "",
          "output_type": "error",
          "traceback": [
            "\u001b[1;31mRunning cells with 'c:\\Users\\ana-m\\AppData\\Local\\Programs\\Python\\Python312\\python.exe' requires the ipykernel package.\n",
            "\u001b[1;31mRun the following command to install 'ipykernel' into the Python environment. \n",
            "\u001b[1;31mCommand: 'c:/Users/ana-m/AppData/Local/Programs/Python/Python312/python.exe -m pip install ipykernel -U --user --force-reinstall'"
          ]
        }
      ],
      "source": [
        "df.hist()"
      ]
    },
    {
      "cell_type": "markdown",
      "id": "7ee1f1ff",
      "metadata": {},
      "source": [
        "This line of code uses the hist() method on the DataFrame df to generate histograms for all numerical columns in the dataset. It provides a quick visual overview of the distribution of each numerical variable."
      ]
    },
    {
      "cell_type": "code",
      "execution_count": null,
      "id": "430a0c4f",
      "metadata": {
        "colab": {
          "base_uri": "https://localhost:8080/",
          "height": 597
        },
        "execution": {
          "iopub.execute_input": "2023-06-13T17:35:06.727305Z",
          "iopub.status.busy": "2023-06-13T17:35:06.726929Z",
          "iopub.status.idle": "2023-06-13T17:35:07.352492Z",
          "shell.execute_reply": "2023-06-13T17:35:07.351223Z"
        },
        "id": "430a0c4f",
        "outputId": "abb708b1-efcd-416a-b945-3b3b80d1b05b",
        "papermill": {
          "duration": 0.641335,
          "end_time": "2023-06-13T17:35:07.355618",
          "exception": false,
          "start_time": "2023-06-13T17:35:06.714283",
          "status": "completed"
        },
        "tags": []
      },
      "outputs": [
        {
          "ename": "",
          "evalue": "",
          "output_type": "error",
          "traceback": [
            "\u001b[1;31mRunning cells with 'c:\\Users\\ana-m\\AppData\\Local\\Programs\\Python\\Python312\\python.exe' requires the ipykernel package.\n",
            "\u001b[1;31mRun the following command to install 'ipykernel' into the Python environment. \n",
            "\u001b[1;31mCommand: 'c:/Users/ana-m/AppData/Local/Programs/Python/Python312/python.exe -m pip install ipykernel -U --user --force-reinstall'"
          ]
        }
      ],
      "source": [
        "plt.figure(figsize=(20,10))\n",
        "plt.subplot(1,2,1)\n",
        "plt.hist(df['Temperature'])\n",
        "plt.xlabel('Temperatue')\n",
        "plt.subplot(1,2,2)\n",
        "plt.hist(df['CO2 Emissions'])\n",
        "plt.xlabel('CO2 Emissions')"
      ]
    },
    {
      "cell_type": "markdown",
      "id": "79a32d90",
      "metadata": {},
      "source": [
        "Here, I am creating a figure with a size of 20x10 inches and then using subplot to arrange two histograms side by side. The first histogram represents the 'Temperature' column, and the second represents the 'CO2 Emissions' column. I'm also adding labels to the x-axis for better interpretation."
      ]
    },
    {
      "cell_type": "code",
      "execution_count": null,
      "id": "f31a69b5",
      "metadata": {
        "colab": {
          "base_uri": "https://localhost:8080/",
          "height": 496
        },
        "execution": {
          "iopub.execute_input": "2023-06-13T17:35:07.382159Z",
          "iopub.status.busy": "2023-06-13T17:35:07.381691Z",
          "iopub.status.idle": "2023-06-13T17:35:07.959920Z",
          "shell.execute_reply": "2023-06-13T17:35:07.958621Z"
        },
        "id": "f31a69b5",
        "outputId": "8f9819ed-69b9-445f-9501-307039c12e93",
        "papermill": {
          "duration": 0.595051,
          "end_time": "2023-06-13T17:35:07.962775",
          "exception": false,
          "start_time": "2023-06-13T17:35:07.367724",
          "status": "completed"
        },
        "tags": []
      },
      "outputs": [
        {
          "ename": "",
          "evalue": "",
          "output_type": "error",
          "traceback": [
            "\u001b[1;31mRunning cells with 'c:\\Users\\ana-m\\AppData\\Local\\Programs\\Python\\Python312\\python.exe' requires the ipykernel package.\n",
            "\u001b[1;31mRun the following command to install 'ipykernel' into the Python environment. \n",
            "\u001b[1;31mCommand: 'c:/Users/ana-m/AppData/Local/Programs/Python/Python312/python.exe -m pip install ipykernel -U --user --force-reinstall'"
          ]
        }
      ],
      "source": [
        "plt.figure(figsize=(20,8))\n",
        "plt.subplot(1,2,1)\n",
        "plt.hist(df['Sea Level Rise'])\n",
        "plt.xlabel('Sea Level Rise')\n",
        "plt.subplot(1,2,2)\n",
        "plt.hist(df['Precipitation'])\n",
        "plt.xlabel('Precipitation')"
      ]
    },
    {
      "cell_type": "markdown",
      "id": "04e3d9e3",
      "metadata": {},
      "source": [
        "Similarly, in this block of code, I'm creating another figure with a size of 20x8 inches and arranging two histograms side by side. The first histogram represents the 'Sea Level Rise' column, and the second represents the 'Precipitation' column. I've added labels to the x-axis for clarity."
      ]
    },
    {
      "cell_type": "code",
      "execution_count": null,
      "id": "9dfbb30c",
      "metadata": {
        "colab": {
          "base_uri": "https://localhost:8080/",
          "height": 496
        },
        "execution": {
          "iopub.execute_input": "2023-06-13T17:35:07.990685Z",
          "iopub.status.busy": "2023-06-13T17:35:07.990210Z",
          "iopub.status.idle": "2023-06-13T17:35:08.556388Z",
          "shell.execute_reply": "2023-06-13T17:35:08.555220Z"
        },
        "id": "9dfbb30c",
        "outputId": "63a82468-ecf9-46f7-e5b2-bcf269d6c7b8",
        "papermill": {
          "duration": 0.5838,
          "end_time": "2023-06-13T17:35:08.559165",
          "exception": false,
          "start_time": "2023-06-13T17:35:07.975365",
          "status": "completed"
        },
        "tags": []
      },
      "outputs": [
        {
          "ename": "",
          "evalue": "",
          "output_type": "error",
          "traceback": [
            "\u001b[1;31mRunning cells with 'c:\\Users\\ana-m\\AppData\\Local\\Programs\\Python\\Python312\\python.exe' requires the ipykernel package.\n",
            "\u001b[1;31mRun the following command to install 'ipykernel' into the Python environment. \n",
            "\u001b[1;31mCommand: 'c:/Users/ana-m/AppData/Local/Programs/Python/Python312/python.exe -m pip install ipykernel -U --user --force-reinstall'"
          ]
        }
      ],
      "source": [
        "plt.figure(figsize=(20,8))\n",
        "plt.subplot(1,2,1)\n",
        "plt.hist(df['Humidity'])\n",
        "plt.xlabel('Humidity')\n",
        "plt.subplot(1,2,2)\n",
        "plt.hist(df['Wind Speed'])\n",
        "plt.xlabel('Wind Speed')"
      ]
    },
    {
      "cell_type": "markdown",
      "id": "56987d46",
      "metadata": {},
      "source": [
        "In this code block, I am creating a new figure with a size of 20x8 inches and arranging two histograms side by side. The first histogram represents the 'Humidity' column, and the second represents the 'Wind Speed' column. I'm adding labels to the x-axis for both histograms to improve interpretability."
      ]
    },
    {
      "cell_type": "markdown",
      "id": "3088068f",
      "metadata": {
        "id": "3088068f",
        "papermill": {
          "duration": 0.012232,
          "end_time": "2023-06-13T17:35:08.584215",
          "exception": false,
          "start_time": "2023-06-13T17:35:08.571983",
          "status": "completed"
        },
        "tags": []
      },
      "source": [
        "Wind Speed and Humidity is nearly same"
      ]
    },
    {
      "cell_type": "code",
      "execution_count": null,
      "id": "890dca66",
      "metadata": {
        "execution": {
          "iopub.execute_input": "2023-06-13T17:35:08.611460Z",
          "iopub.status.busy": "2023-06-13T17:35:08.611004Z",
          "iopub.status.idle": "2023-06-13T17:35:08.622516Z",
          "shell.execute_reply": "2023-06-13T17:35:08.621382Z"
        },
        "id": "890dca66",
        "papermill": {
          "duration": 0.027912,
          "end_time": "2023-06-13T17:35:08.624837",
          "exception": false,
          "start_time": "2023-06-13T17:35:08.596925",
          "status": "completed"
        },
        "tags": []
      },
      "outputs": [
        {
          "ename": "",
          "evalue": "",
          "output_type": "error",
          "traceback": [
            "\u001b[1;31mRunning cells with 'c:\\Users\\ana-m\\AppData\\Local\\Programs\\Python\\Python312\\python.exe' requires the ipykernel package.\n",
            "\u001b[1;31mRun the following command to install 'ipykernel' into the Python environment. \n",
            "\u001b[1;31mCommand: 'c:/Users/ana-m/AppData/Local/Programs/Python/Python312/python.exe -m pip install ipykernel -U --user --force-reinstall'"
          ]
        }
      ],
      "source": [
        "df['Date']=pd.to_datetime(df['Date'])"
      ]
    },
    {
      "cell_type": "markdown",
      "id": "0e88628a",
      "metadata": {},
      "source": [
        "Here, I am converting the 'Date' column to a datetime format using the pd.to_datetime() function. This allows for easier manipulation and analysis of date-related information."
      ]
    },
    {
      "cell_type": "code",
      "execution_count": null,
      "id": "ee3e9761",
      "metadata": {
        "execution": {
          "iopub.execute_input": "2023-06-13T17:35:08.651829Z",
          "iopub.status.busy": "2023-06-13T17:35:08.651427Z",
          "iopub.status.idle": "2023-06-13T17:35:08.664308Z",
          "shell.execute_reply": "2023-06-13T17:35:08.663097Z"
        },
        "id": "ee3e9761",
        "papermill": {
          "duration": 0.02939,
          "end_time": "2023-06-13T17:35:08.666859",
          "exception": false,
          "start_time": "2023-06-13T17:35:08.637469",
          "status": "completed"
        },
        "tags": []
      },
      "outputs": [
        {
          "ename": "",
          "evalue": "",
          "output_type": "error",
          "traceback": [
            "\u001b[1;31mRunning cells with 'c:\\Users\\ana-m\\AppData\\Local\\Programs\\Python\\Python312\\python.exe' requires the ipykernel package.\n",
            "\u001b[1;31mRun the following command to install 'ipykernel' into the Python environment. \n",
            "\u001b[1;31mCommand: 'c:/Users/ana-m/AppData/Local/Programs/Python/Python312/python.exe -m pip install ipykernel -U --user --force-reinstall'"
          ]
        }
      ],
      "source": [
        "df['Date Only']=df['Date'].dt.date"
      ]
    },
    {
      "cell_type": "markdown",
      "id": "9f38a4dc",
      "metadata": {},
      "source": [
        "Next, I am creating a new column named 'Date Only', which contains only the date part of the 'Date' column. This can be useful when analyzing or grouping data based on dates without considering the time component"
      ]
    },
    {
      "cell_type": "code",
      "execution_count": null,
      "id": "108950d4",
      "metadata": {
        "execution": {
          "iopub.execute_input": "2023-06-13T17:35:08.694189Z",
          "iopub.status.busy": "2023-06-13T17:35:08.693757Z",
          "iopub.status.idle": "2023-06-13T17:35:08.701245Z",
          "shell.execute_reply": "2023-06-13T17:35:08.700411Z"
        },
        "id": "108950d4",
        "papermill": {
          "duration": 0.023895,
          "end_time": "2023-06-13T17:35:08.703556",
          "exception": false,
          "start_time": "2023-06-13T17:35:08.679661",
          "status": "completed"
        },
        "tags": []
      },
      "outputs": [
        {
          "ename": "",
          "evalue": "",
          "output_type": "error",
          "traceback": [
            "\u001b[1;31mRunning cells with 'c:\\Users\\ana-m\\AppData\\Local\\Programs\\Python\\Python312\\python.exe' requires the ipykernel package.\n",
            "\u001b[1;31mRun the following command to install 'ipykernel' into the Python environment. \n",
            "\u001b[1;31mCommand: 'c:/Users/ana-m/AppData/Local/Programs/Python/Python312/python.exe -m pip install ipykernel -U --user --force-reinstall'"
          ]
        }
      ],
      "source": [
        "df['Year']=df['Date'].dt.year"
      ]
    },
    {
      "cell_type": "markdown",
      "id": "2398c88b",
      "metadata": {},
      "source": [
        "Now, the DataFrame has an additional column, 'Year', that represents the year for each corresponding date in the 'Date' column. This can be particularly useful when you want to analyze or group data based on the year component, allowing for more granular insights into yearly trends or patterns in the dataset."
      ]
    },
    {
      "cell_type": "code",
      "execution_count": null,
      "id": "7ce3cf3b",
      "metadata": {
        "colab": {
          "base_uri": "https://localhost:8080/",
          "height": 310
        },
        "execution": {
          "iopub.execute_input": "2023-06-13T17:35:08.730610Z",
          "iopub.status.busy": "2023-06-13T17:35:08.730209Z",
          "iopub.status.idle": "2023-06-13T17:35:08.746514Z",
          "shell.execute_reply": "2023-06-13T17:35:08.745731Z"
        },
        "id": "7ce3cf3b",
        "outputId": "c3910368-1c27-4abd-faac-0281cbfc916b",
        "papermill": {
          "duration": 0.032448,
          "end_time": "2023-06-13T17:35:08.748746",
          "exception": false,
          "start_time": "2023-06-13T17:35:08.716298",
          "status": "completed"
        },
        "tags": []
      },
      "outputs": [
        {
          "ename": "",
          "evalue": "",
          "output_type": "error",
          "traceback": [
            "\u001b[1;31mRunning cells with 'c:\\Users\\ana-m\\AppData\\Local\\Programs\\Python\\Python312\\python.exe' requires the ipykernel package.\n",
            "\u001b[1;31mRun the following command to install 'ipykernel' into the Python environment. \n",
            "\u001b[1;31mCommand: 'c:/Users/ana-m/AppData/Local/Programs/Python/Python312/python.exe -m pip install ipykernel -U --user --force-reinstall'"
          ]
        }
      ],
      "source": [
        "df.head()"
      ]
    },
    {
      "cell_type": "code",
      "execution_count": null,
      "id": "9d101898",
      "metadata": {
        "colab": {
          "base_uri": "https://localhost:8080/",
          "height": 489
        },
        "execution": {
          "iopub.execute_input": "2023-06-13T17:35:08.777243Z",
          "iopub.status.busy": "2023-06-13T17:35:08.776534Z",
          "iopub.status.idle": "2023-06-13T17:35:11.214892Z",
          "shell.execute_reply": "2023-06-13T17:35:11.213733Z"
        },
        "id": "9d101898",
        "outputId": "b86c2650-4945-413a-bc46-6777c550e1de",
        "papermill": {
          "duration": 2.456535,
          "end_time": "2023-06-13T17:35:11.218548",
          "exception": false,
          "start_time": "2023-06-13T17:35:08.762013",
          "status": "completed"
        },
        "tags": []
      },
      "outputs": [
        {
          "ename": "",
          "evalue": "",
          "output_type": "error",
          "traceback": [
            "\u001b[1;31mRunning cells with 'c:\\Users\\ana-m\\AppData\\Local\\Programs\\Python\\Python312\\python.exe' requires the ipykernel package.\n",
            "\u001b[1;31mRun the following command to install 'ipykernel' into the Python environment. \n",
            "\u001b[1;31mCommand: 'c:/Users/ana-m/AppData/Local/Programs/Python/Python312/python.exe -m pip install ipykernel -U --user --force-reinstall'"
          ]
        }
      ],
      "source": [
        "plt.figure(figsize=(20,8))\n",
        "plt.subplot(1,2,1)\n",
        "sns.lineplot(x='Year',y='Temperature',data=df)\n",
        "plt.subplot(1,2,2)\n",
        "sns.lineplot(x='Year',y='CO2 Emissions',data=df)"
      ]
    },
    {
      "cell_type": "markdown",
      "id": "9c501b58",
      "metadata": {},
      "source": [
        "In this code block, I am creating a figure with a size of 20x8 inches and arranging two line plots side by side using sns.lineplot from the Seaborn library. The first line plot represents the relationship between 'Year' and 'Temperature', while the second one shows the relationship between 'Year' and 'CO2 Emissions'. This visual representation helps in understanding trends and patterns over the years for these variables."
      ]
    },
    {
      "cell_type": "code",
      "execution_count": null,
      "id": "915a1e9b",
      "metadata": {
        "colab": {
          "base_uri": "https://localhost:8080/",
          "height": 491
        },
        "execution": {
          "iopub.execute_input": "2023-06-13T17:35:11.251405Z",
          "iopub.status.busy": "2023-06-13T17:35:11.250454Z",
          "iopub.status.idle": "2023-06-13T17:35:13.654882Z",
          "shell.execute_reply": "2023-06-13T17:35:13.653455Z"
        },
        "id": "915a1e9b",
        "outputId": "f287f3d5-2954-485d-8be1-a6e5a340e626",
        "papermill": {
          "duration": 2.425277,
          "end_time": "2023-06-13T17:35:13.659089",
          "exception": false,
          "start_time": "2023-06-13T17:35:11.233812",
          "status": "completed"
        },
        "tags": []
      },
      "outputs": [
        {
          "ename": "",
          "evalue": "",
          "output_type": "error",
          "traceback": [
            "\u001b[1;31mRunning cells with 'c:\\Users\\ana-m\\AppData\\Local\\Programs\\Python\\Python312\\python.exe' requires the ipykernel package.\n",
            "\u001b[1;31mRun the following command to install 'ipykernel' into the Python environment. \n",
            "\u001b[1;31mCommand: 'c:/Users/ana-m/AppData/Local/Programs/Python/Python312/python.exe -m pip install ipykernel -U --user --force-reinstall'"
          ]
        }
      ],
      "source": [
        "plt.figure(figsize=(20,8))\n",
        "plt.subplot(1,2,1)\n",
        "sns.lineplot(x='Year',y='Sea Level Rise',data=df)\n",
        "plt.subplot(1,2,2)\n",
        "sns.lineplot(x='Year',y='Precipitation',data=df)\n"
      ]
    },
    {
      "cell_type": "markdown",
      "id": "0cc2f607",
      "metadata": {},
      "source": [
        "Similarly, in this block of code, I am creating another figure with a size of 20x8 inches and arranging two line plots side by side. The first line plot represents the relationship between 'Year' and 'Sea Level Rise', while the second one shows the relationship between 'Year' and 'Precipitation'. These line plots help in visualizing how these environmental variables change over the years."
      ]
    },
    {
      "cell_type": "code",
      "execution_count": null,
      "id": "f1dee845",
      "metadata": {
        "colab": {
          "base_uri": "https://localhost:8080/",
          "height": 496
        },
        "execution": {
          "iopub.execute_input": "2023-06-13T17:35:13.701748Z",
          "iopub.status.busy": "2023-06-13T17:35:13.701225Z",
          "iopub.status.idle": "2023-06-13T17:35:16.391597Z",
          "shell.execute_reply": "2023-06-13T17:35:16.390108Z"
        },
        "id": "f1dee845",
        "outputId": "ef2db7c9-589b-40ff-f9a5-cf1eedc52c1c",
        "papermill": {
          "duration": 2.715436,
          "end_time": "2023-06-13T17:35:16.395399",
          "exception": false,
          "start_time": "2023-06-13T17:35:13.679963",
          "status": "completed"
        },
        "tags": []
      },
      "outputs": [
        {
          "ename": "",
          "evalue": "",
          "output_type": "error",
          "traceback": [
            "\u001b[1;31mRunning cells with 'c:\\Users\\ana-m\\AppData\\Local\\Programs\\Python\\Python312\\python.exe' requires the ipykernel package.\n",
            "\u001b[1;31mRun the following command to install 'ipykernel' into the Python environment. \n",
            "\u001b[1;31mCommand: 'c:/Users/ana-m/AppData/Local/Programs/Python/Python312/python.exe -m pip install ipykernel -U --user --force-reinstall'"
          ]
        }
      ],
      "source": [
        "plt.figure(figsize=(20,8))\n",
        "plt.subplot(1,2,1)\n",
        "sns.lineplot(x='Year',y='Humidity',data=df)\n",
        "plt.subplot(1,2,2)\n",
        "sns.lineplot(x='Year',y='Wind Speed',data=df)\n"
      ]
    },
    {
      "cell_type": "markdown",
      "id": "be5fa8cd",
      "metadata": {},
      "source": [
        "In the last block, I am creating another figure with two line plots side by side. The first line plot represents the relationship between 'Year' and 'Humidity', while the second one shows the relationship between 'Year' and 'Wind Speed'. These visualizations allow for a better understanding of how humidity and wind speed vary over the years."
      ]
    },
    {
      "cell_type": "code",
      "execution_count": null,
      "id": "6a5a5015",
      "metadata": {
        "colab": {
          "base_uri": "https://localhost:8080/",
          "height": 326
        },
        "execution": {
          "iopub.execute_input": "2023-06-13T17:35:16.482541Z",
          "iopub.status.busy": "2023-06-13T17:35:16.482028Z",
          "iopub.status.idle": "2023-06-13T17:35:16.504971Z",
          "shell.execute_reply": "2023-06-13T17:35:16.503418Z"
        },
        "id": "6a5a5015",
        "outputId": "4f84be3e-b805-49ac-a27b-5186bb377908",
        "papermill": {
          "duration": 0.049247,
          "end_time": "2023-06-13T17:35:16.508324",
          "exception": false,
          "start_time": "2023-06-13T17:35:16.459077",
          "status": "completed"
        },
        "tags": []
      },
      "outputs": [
        {
          "ename": "",
          "evalue": "",
          "output_type": "error",
          "traceback": [
            "\u001b[1;31mRunning cells with 'c:\\Users\\ana-m\\AppData\\Local\\Programs\\Python\\Python312\\python.exe' requires the ipykernel package.\n",
            "\u001b[1;31mRun the following command to install 'ipykernel' into the Python environment. \n",
            "\u001b[1;31mCommand: 'c:/Users/ana-m/AppData/Local/Programs/Python/Python312/python.exe -m pip install ipykernel -U --user --force-reinstall'"
          ]
        }
      ],
      "source": [
        "df.corr()"
      ]
    },
    {
      "cell_type": "markdown",
      "id": "53e76e17",
      "metadata": {},
      "source": [
        "The corr() method calculates the pairwise correlation between numerical columns in the DataFrame df. The resulting correlation matrix provides insights into the linear relationship between different variables. A correlation close to 1 indicates a strong positive correlation, close to -1 indicates a strong negative correlation, and close to 0 indicates a weak or no linear correlation."
      ]
    },
    {
      "cell_type": "code",
      "execution_count": null,
      "id": "76237f81",
      "metadata": {
        "colab": {
          "base_uri": "https://localhost:8080/",
          "height": 1000
        },
        "execution": {
          "iopub.execute_input": "2023-06-13T17:35:16.552457Z",
          "iopub.status.busy": "2023-06-13T17:35:16.551905Z",
          "iopub.status.idle": "2023-06-13T17:35:36.361084Z",
          "shell.execute_reply": "2023-06-13T17:35:36.359508Z"
        },
        "id": "76237f81",
        "outputId": "2f8f725c-fa7a-4dd8-e27f-88c3e7579a76",
        "papermill": {
          "duration": 19.858087,
          "end_time": "2023-06-13T17:35:36.387500",
          "exception": false,
          "start_time": "2023-06-13T17:35:16.529413",
          "status": "completed"
        },
        "tags": []
      },
      "outputs": [
        {
          "ename": "",
          "evalue": "",
          "output_type": "error",
          "traceback": [
            "\u001b[1;31mRunning cells with 'c:\\Users\\ana-m\\AppData\\Local\\Programs\\Python\\Python312\\python.exe' requires the ipykernel package.\n",
            "\u001b[1;31mRun the following command to install 'ipykernel' into the Python environment. \n",
            "\u001b[1;31mCommand: 'c:/Users/ana-m/AppData/Local/Programs/Python/Python312/python.exe -m pip install ipykernel -U --user --force-reinstall'"
          ]
        }
      ],
      "source": [
        "sns.pairplot(df)"
      ]
    },
    {
      "cell_type": "markdown",
      "id": "70390e51",
      "metadata": {},
      "source": [
        "The pairplot function from Seaborn is used to create a matrix of scatterplots, with each scatterplot showing the relationship between two numerical variables in the DataFrame df. The diagonal contains histograms for each variable, and the scatterplots provide a visual representation of the pairwise relationships between variables. This is useful for identifying potential patterns and correlations in the data."
      ]
    },
    {
      "cell_type": "code",
      "execution_count": null,
      "id": "qMj-CJnEvDCD",
      "metadata": {
        "colab": {
          "base_uri": "https://localhost:8080/"
        },
        "id": "qMj-CJnEvDCD",
        "outputId": "d63a6683-a65d-48fa-99a4-89cc486db22e"
      },
      "outputs": [
        {
          "ename": "",
          "evalue": "",
          "output_type": "error",
          "traceback": [
            "\u001b[1;31mRunning cells with 'c:\\Users\\ana-m\\AppData\\Local\\Programs\\Python\\Python312\\python.exe' requires the ipykernel package.\n",
            "\u001b[1;31mRun the following command to install 'ipykernel' into the Python environment. \n",
            "\u001b[1;31mCommand: 'c:/Users/ana-m/AppData/Local/Programs/Python/Python312/python.exe -m pip install ipykernel -U --user --force-reinstall'"
          ]
        }
      ],
      "source": [
        "import pandas as pd\n",
        "from sklearn.model_selection import train_test_split\n",
        "from sklearn.linear_model import LinearRegression\n",
        "from sklearn.metrics import mean_squared_error\n",
        "from sklearn.preprocessing import StandardScaler\n",
        "\n",
        "df = pd.read_csv('climate_change_data.csv')\n",
        "\n",
        "df['Date'] = pd.to_datetime(df['Date'])\n",
        "\n",
        "target_variable = 'Temperature'\n",
        "\n",
        "X = df.drop([target_variable, 'Date', 'Location', 'Country'], axis=1)\n",
        "y = df[target_variable]\n",
        "\n",
        "X_train, X_test, y_train, y_test = train_test_split(X, y, test_size=0.2, random_state=42)\n",
        "\n",
        "\n",
        "scaler = StandardScaler()\n",
        "X_train_scaled = scaler.fit_transform(X_train)\n",
        "X_test_scaled = scaler.transform(X_test)\n",
        "\n",
        "\n",
        "model = LinearRegression()\n",
        "model.fit(X_train_scaled, y_train)\n",
        "\n",
        "\n",
        "y_pred = model.predict(X_test_scaled)\n",
        "\n",
        "\n",
        "mse = mean_squared_error(y_test, y_pred)\n",
        "print(f'Mean Squared Error: {mse}')\n",
        "\n"
      ]
    },
    {
      "cell_type": "code",
      "execution_count": null,
      "id": "vKqlvCdjwlX6",
      "metadata": {
        "colab": {
          "base_uri": "https://localhost:8080/",
          "height": 1000
        },
        "id": "vKqlvCdjwlX6",
        "outputId": "976ad73b-322c-44a6-d901-89a12732c4e8"
      },
      "outputs": [
        {
          "ename": "",
          "evalue": "",
          "output_type": "error",
          "traceback": [
            "\u001b[1;31mRunning cells with 'c:\\Users\\ana-m\\AppData\\Local\\Programs\\Python\\Python312\\python.exe' requires the ipykernel package.\n",
            "\u001b[1;31mRun the following command to install 'ipykernel' into the Python environment. \n",
            "\u001b[1;31mCommand: 'c:/Users/ana-m/AppData/Local/Programs/Python/Python312/python.exe -m pip install ipykernel -U --user --force-reinstall'"
          ]
        }
      ],
      "source": [
        "import matplotlib.pyplot as plt\n",
        "import seaborn as sns\n",
        "\n",
        "plt.figure(figsize=(10, 6))\n",
        "sns.scatterplot(x=y_test, y=y_pred)\n",
        "plt.xlabel('Actual Temperature')\n",
        "plt.ylabel('Predicted Temperature')\n",
        "plt.title('Actual vs Predicted Temperature')\n",
        "plt.show()\n",
        "\n",
        "plt.figure(figsize=(10, 6))\n",
        "sns.regplot(x=y_test, y=y_pred)\n",
        "plt.xlabel('Actual Temperature')\n",
        "plt.ylabel('Predicted Temperature')\n",
        "plt.title('Regression Line: Actual vs Predicted Temperature')\n",
        "plt.show()\n"
      ]
    },
    {
      "cell_type": "code",
      "execution_count": null,
      "id": "vKDzC_6Jw0R6",
      "metadata": {
        "colab": {
          "base_uri": "https://localhost:8080/"
        },
        "id": "vKDzC_6Jw0R6",
        "outputId": "d146fa22-f545-422f-83a1-0403ae6ed750"
      },
      "outputs": [
        {
          "ename": "",
          "evalue": "",
          "output_type": "error",
          "traceback": [
            "\u001b[1;31mRunning cells with 'c:\\Users\\ana-m\\AppData\\Local\\Programs\\Python\\Python312\\python.exe' requires the ipykernel package.\n",
            "\u001b[1;31mRun the following command to install 'ipykernel' into the Python environment. \n",
            "\u001b[1;31mCommand: 'c:/Users/ana-m/AppData/Local/Programs/Python/Python312/python.exe -m pip install ipykernel -U --user --force-reinstall'"
          ]
        }
      ],
      "source": [
        "pip install tensorflow pandas\n"
      ]
    },
    {
      "cell_type": "code",
      "execution_count": null,
      "id": "bMSE4KrkxqvQ",
      "metadata": {
        "colab": {
          "base_uri": "https://localhost:8080/",
          "height": 1000
        },
        "id": "bMSE4KrkxqvQ",
        "outputId": "40dea140-d2fc-46e6-abb1-eeabcb863438"
      },
      "outputs": [
        {
          "ename": "",
          "evalue": "",
          "output_type": "error",
          "traceback": [
            "\u001b[1;31mRunning cells with 'c:\\Users\\ana-m\\AppData\\Local\\Programs\\Python\\Python312\\python.exe' requires the ipykernel package.\n",
            "\u001b[1;31mRun the following command to install 'ipykernel' into the Python environment. \n",
            "\u001b[1;31mCommand: 'c:/Users/ana-m/AppData/Local/Programs/Python/Python312/python.exe -m pip install ipykernel -U --user --force-reinstall'"
          ]
        }
      ],
      "source": [
        "import pandas as pd\n",
        "import numpy as np\n",
        "import tensorflow as tf\n",
        "from sklearn.model_selection import train_test_split\n",
        "from sklearn.preprocessing import StandardScaler\n",
        "import matplotlib.pyplot as plt\n",
        "\n",
        "df = pd.read_csv('climate_change_data.csv')\n",
        "\n",
        "df['Date'] = pd.to_datetime(df['Date'])\n",
        "\n",
        "target_variable = 'Temperature'\n",
        "\n",
        "X = df.drop([target_variable, 'Date', 'Location', 'Country'], axis=1)\n",
        "y = df[target_variable]\n",
        "\n",
        "X_train, X_test, y_train, y_test = train_test_split(X, y, test_size=0.2, random_state=42)\n",
        "\n",
        "scaler = StandardScaler()\n",
        "X_train_scaled = scaler.fit_transform(X_train)\n",
        "X_test_scaled = scaler.transform(X_test)\n",
        "\n",
        "model = tf.keras.Sequential([\n",
        "    tf.keras.layers.Dense(128, activation='relu', input_shape=(X_train_scaled.shape[1],)),\n",
        "    tf.keras.layers.Dense(64, activation='relu'),\n",
        "    tf.keras.layers.Dense(1)  # Output layer for regression task\n",
        "])\n",
        "\n",
        "model.compile(optimizer='adam', loss='mean_squared_error')\n",
        "\n",
        "history = model.fit(X_train_scaled, y_train, epochs=50, batch_size=32, validation_split=0.2, verbose=1)\n",
        "\n",
        "mse = model.evaluate(X_test_scaled, y_test)\n",
        "print(f'Mean Squared Error on Test Set: {mse}')\n",
        "\n",
        "plt.plot(history.history['loss'], label='Training Loss')\n",
        "plt.plot(history.history['val_loss'], label='Validation Loss')\n",
        "plt.xlabel('Epochs')\n",
        "plt.ylabel('Mean Squared Error')\n",
        "plt.legend()\n",
        "plt.show()\n"
      ]
    },
    {
      "cell_type": "code",
      "execution_count": null,
      "id": "A4LW1D_pzLQW",
      "metadata": {
        "colab": {
          "base_uri": "https://localhost:8080/",
          "height": 1000
        },
        "id": "A4LW1D_pzLQW",
        "outputId": "a6ae0796-82b6-40a4-f3e0-48295cfabb8b"
      },
      "outputs": [
        {
          "ename": "",
          "evalue": "",
          "output_type": "error",
          "traceback": [
            "\u001b[1;31mRunning cells with 'c:\\Users\\ana-m\\AppData\\Local\\Programs\\Python\\Python312\\python.exe' requires the ipykernel package.\n",
            "\u001b[1;31mRun the following command to install 'ipykernel' into the Python environment. \n",
            "\u001b[1;31mCommand: 'c:/Users/ana-m/AppData/Local/Programs/Python/Python312/python.exe -m pip install ipykernel -U --user --force-reinstall'"
          ]
        }
      ],
      "source": [
        "import pandas as pd\n",
        "import numpy as np\n",
        "import tensorflow as tf\n",
        "from sklearn.model_selection import train_test_split\n",
        "from sklearn.preprocessing import StandardScaler\n",
        "import matplotlib.pyplot as plt\n",
        "import seaborn as sns\n",
        "\n",
        "df = pd.read_csv('climate_change_data.csv')\n",
        "\n",
        "df['Date'] = pd.to_datetime(df['Date'])\n",
        "\n",
        "target_variable = 'Temperature'\n",
        "\n",
        "X = df.drop([target_variable, 'Date', 'Location', 'Country'], axis=1)\n",
        "y = df[target_variable]\n",
        "\n",
        "X_train, X_test, y_train, y_test = train_test_split(X, y, test_size=0.2, random_state=42)\n",
        "\n",
        "scaler = StandardScaler()\n",
        "X_train_scaled = scaler.fit_transform(X_train)\n",
        "X_test_scaled = scaler.transform(X_test)\n",
        "\n",
        "model = tf.keras.Sequential([\n",
        "    tf.keras.layers.Dense(128, activation='relu', input_shape=(X_train_scaled.shape[1],)),\n",
        "    tf.keras.layers.Dense(64, activation='relu'),\n",
        "    tf.keras.layers.Dense(1)  # Output layer for regression task\n",
        "])\n",
        "\n",
        "model.compile(optimizer='adam', loss='mean_squared_error')\n",
        "\n",
        "history = model.fit(X_train_scaled, y_train, epochs=50, batch_size=32, validation_split=0.2, verbose=1)\n",
        "\n",
        "mse = model.evaluate(X_test_scaled, y_test)\n",
        "print(f'Mean Squared Error on Test Set: {mse}')\n",
        "\n",
        "plt.figure(figsize=(12, 6))\n",
        "plt.subplot(1, 2, 1)\n",
        "plt.plot(history.history['loss'], label='Training Loss')\n",
        "plt.plot(history.history['val_loss'], label='Validation Loss')\n",
        "plt.xlabel('Epochs')\n",
        "plt.ylabel('Mean Squared Error')\n",
        "plt.title('Training History')\n",
        "plt.legend()\n",
        "\n",
        "plt.subplot(1, 2, 2)\n",
        "y_pred = model.predict(X_test_scaled).flatten()\n",
        "sns.scatterplot(x=y_test, y=y_pred)\n",
        "plt.xlabel('Actual Temperature')\n",
        "plt.ylabel('Predicted Temperature')\n",
        "plt.title('Actual vs Predicted Temperature')\n",
        "plt.show()\n"
      ]
    },
    {
      "cell_type": "code",
      "execution_count": null,
      "id": "BGQIb7PW0fGV",
      "metadata": {
        "colab": {
          "base_uri": "https://localhost:8080/"
        },
        "id": "BGQIb7PW0fGV",
        "outputId": "d778667b-9ff7-4b84-e622-c25893c2e3f8"
      },
      "outputs": [
        {
          "ename": "",
          "evalue": "",
          "output_type": "error",
          "traceback": [
            "\u001b[1;31mRunning cells with 'c:\\Users\\ana-m\\AppData\\Local\\Programs\\Python\\Python312\\python.exe' requires the ipykernel package.\n",
            "\u001b[1;31mRun the following command to install 'ipykernel' into the Python environment. \n",
            "\u001b[1;31mCommand: 'c:/Users/ana-m/AppData/Local/Programs/Python/Python312/python.exe -m pip install ipykernel -U --user --force-reinstall'"
          ]
        }
      ],
      "source": [
        "pip install pandas scikit-learn matplotlib seaborn\n"
      ]
    },
    {
      "cell_type": "code",
      "execution_count": null,
      "id": "wcwe1bjQ0h1_",
      "metadata": {
        "colab": {
          "base_uri": "https://localhost:8080/",
          "height": 582
        },
        "id": "wcwe1bjQ0h1_",
        "outputId": "b24e621a-df7a-46df-afaa-ac804512ff6f"
      },
      "outputs": [
        {
          "ename": "",
          "evalue": "",
          "output_type": "error",
          "traceback": [
            "\u001b[1;31mRunning cells with 'c:\\Users\\ana-m\\AppData\\Local\\Programs\\Python\\Python312\\python.exe' requires the ipykernel package.\n",
            "\u001b[1;31mRun the following command to install 'ipykernel' into the Python environment. \n",
            "\u001b[1;31mCommand: 'c:/Users/ana-m/AppData/Local/Programs/Python/Python312/python.exe -m pip install ipykernel -U --user --force-reinstall'"
          ]
        }
      ],
      "source": [
        "import pandas as pd\n",
        "from sklearn.model_selection import train_test_split\n",
        "from sklearn.neighbors import KNeighborsRegressor\n",
        "from sklearn.preprocessing import StandardScaler\n",
        "from sklearn.metrics import mean_squared_error\n",
        "import matplotlib.pyplot as plt\n",
        "import seaborn as sns\n",
        "\n",
        "df = pd.read_csv('climate_change_data.csv')\n",
        "\n",
        "target_variable = 'Temperature'\n",
        "\n",
        "X = df.drop([target_variable, 'Date', 'Location', 'Country'], axis=1)\n",
        "y = df[target_variable]\n",
        "\n",
        "X_train, X_test, y_train, y_test = train_test_split(X, y, test_size=0.2, random_state=42)\n",
        "\n",
        "scaler = StandardScaler()\n",
        "X_train_scaled = scaler.fit_transform(X_train)\n",
        "X_test_scaled = scaler.transform(X_test)\n",
        "\n",
        "knn_model = KNeighborsRegressor(n_neighbors=5)  # You can adjust the number of neighbors\n",
        "knn_model.fit(X_train_scaled, y_train)\n",
        "\n",
        "y_pred = knn_model.predict(X_test_scaled)\n",
        "\n",
        "mse = mean_squared_error(y_test, y_pred)\n",
        "print(f'Mean Squared Error: {mse}')\n",
        "\n",
        "plt.figure(figsize=(10, 6))\n",
        "sns.scatterplot(x=y_test, y=y_pred)\n",
        "plt.xlabel('Actual Temperature')\n",
        "plt.ylabel('Predicted Temperature')\n",
        "plt.title('Actual vs Predicted Temperature (KNN)')\n",
        "plt.show()\n"
      ]
    },
    {
      "cell_type": "code",
      "execution_count": null,
      "id": "KHPYVdN00_J2",
      "metadata": {
        "colab": {
          "base_uri": "https://localhost:8080/",
          "height": 675
        },
        "id": "KHPYVdN00_J2",
        "outputId": "98405399-4875-4e11-a6ad-412ca1e23538"
      },
      "outputs": [
        {
          "ename": "",
          "evalue": "",
          "output_type": "error",
          "traceback": [
            "\u001b[1;31mRunning cells with 'c:\\Users\\ana-m\\AppData\\Local\\Programs\\Python\\Python312\\python.exe' requires the ipykernel package.\n",
            "\u001b[1;31mRun the following command to install 'ipykernel' into the Python environment. \n",
            "\u001b[1;31mCommand: 'c:/Users/ana-m/AppData/Local/Programs/Python/Python312/python.exe -m pip install ipykernel -U --user --force-reinstall'"
          ]
        }
      ],
      "source": [
        "import pandas as pd\n",
        "from sklearn.model_selection import train_test_split\n",
        "from sklearn.neighbors import KNeighborsRegressor\n",
        "from sklearn.preprocessing import StandardScaler\n",
        "from sklearn.metrics import mean_squared_error\n",
        "import matplotlib.pyplot as plt\n",
        "import seaborn as sns\n",
        "\n",
        "df = pd.read_csv('climate_change_data.csv')\n",
        "\n",
        "target_variable = 'Temperature'\n",
        "\n",
        "X = df.drop([target_variable, 'Date', 'Location', 'Country'], axis=1)\n",
        "y = df[target_variable]\n",
        "\n",
        "X_train, X_test, y_train, y_test = train_test_split(X, y, test_size=0.2, random_state=42)\n",
        "\n",
        "scaler = StandardScaler()\n",
        "X_train_scaled = scaler.fit_transform(X_train)\n",
        "X_test_scaled = scaler.transform(X_test)\n",
        "\n",
        "knn_model = KNeighborsRegressor(n_neighbors=5)  # You can adjust the number of neighbors\n",
        "knn_model.fit(X_train_scaled, y_train)\n",
        "\n",
        "y_pred = knn_model.predict(X_test_scaled)\n",
        "\n",
        "results_df = pd.DataFrame({'Actual': y_test, 'Predicted': y_pred})\n",
        "\n",
        "print(results_df.head())\n",
        "\n",
        "plt.figure(figsize=(10, 6))\n",
        "sns.scatterplot(x=results_df['Actual'], y=results_df['Predicted'])\n",
        "plt.xlabel('Actual Temperature')\n",
        "plt.ylabel('Predicted Temperature')\n",
        "plt.title('Actual vs Predicted Temperature (KNN)')\n",
        "plt.show()\n"
      ]
    }
  ],
  "metadata": {
    "colab": {
      "provenance": []
    },
    "kernelspec": {
      "display_name": "Python 3",
      "language": "python",
      "name": "python3"
    },
    "language_info": {
      "codemirror_mode": {
        "name": "ipython",
        "version": 3
      },
      "file_extension": ".py",
      "mimetype": "text/x-python",
      "name": "python",
      "nbconvert_exporter": "python",
      "pygments_lexer": "ipython3",
      "version": "3.12.0"
    },
    "papermill": {
      "default_parameters": {},
      "duration": 46.832596,
      "end_time": "2023-06-13T17:35:37.761787",
      "environment_variables": {},
      "exception": null,
      "input_path": "__notebook__.ipynb",
      "output_path": "__notebook__.ipynb",
      "parameters": {},
      "start_time": "2023-06-13T17:34:50.929191",
      "version": "2.4.0"
    }
  },
  "nbformat": 4,
  "nbformat_minor": 5
}
